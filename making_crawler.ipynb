{
 "cells": [
  {
   "cell_type": "code",
   "execution_count": 87,
   "metadata": {},
   "outputs": [],
   "source": [
    "import requests, re, json\n",
    "from os import listdir\n",
    "from time import sleep\n",
    "from bs4 import BeautifulSoup as soup"
   ]
  },
  {
   "cell_type": "code",
   "execution_count": 81,
   "metadata": {},
   "outputs": [],
   "source": [
    "raw_cookies = \"\"\n",
    "cookies = dict()\n",
    "for cookie in raw_cookies.split(';'):\n",
    "    key, val = cookie.split('=')\n",
    "    cookies[key.strip()] = val.strip()"
   ]
  },
  {
   "cell_type": "code",
   "execution_count": 82,
   "metadata": {},
   "outputs": [],
   "source": [
    "def get_articles(page:int=1, cookies:dict={}):\n",
    "    url = \"https://arca.live/b/cyoa?&category=%EC%9E%90%EC%9E%91&p=\"+str(page)\n",
    "    res = requests.get(url, cookies=cookies)\n",
    "    \n",
    "    a = soup(res.text).find_all('a', {'class':'vrow column'})\n",
    "    return ['https://arca.live'+i['href'] for i in a]"
   ]
  },
  {
   "cell_type": "code",
   "execution_count": 88,
   "metadata": {},
   "outputs": [],
   "source": [
    "class article():\n",
    "    def __init__(self, url:str):\n",
    "        self.url = url\n",
    "        self.number = self.url.split('/')[-1].split('?')[0]\n",
    "    \n",
    "    def error(self, text):\n",
    "        print(f'Pass {self.number} - {text}')\n",
    "        \n",
    "        \n",
    "    def get(self, cookies:dict={}, save_path:str='./', delay:float=0):\n",
    "        \n",
    "        # Pass existing file\n",
    "        if(self.number+'.json' in listdir(save_path)):\n",
    "            self.error('Already exists')\n",
    "            return\n",
    "        \n",
    "        # I don't want to be banned from the site\n",
    "        sleep(delay)\n",
    "        \n",
    "        try:\n",
    "            self.res = requests.get(self.url, cookies=cookies)\n",
    "            self.soup = soup(self.res.text)\n",
    "        except:\n",
    "            self.error('Check internet connection')\n",
    "            return\n",
    "        \n",
    "        # Article information\n",
    "        try:\n",
    "            self.author = self.soup.find(\"meta\", {\"name\":\"author\"}).attrs['content']\n",
    "            self.title = self.soup.find(\"meta\", {\"name\":\"title\"}).attrs['content']\n",
    "            self.recommand = int(\n",
    "                self.soup.find(string='추천').next.next.contents[0]\n",
    "                )\n",
    "        except:\n",
    "            self.error('Failed to get article information. Banned?')\n",
    "            return\n",
    "        \n",
    "        # Main contents\n",
    "        self.raw_content = self.soup.find('div', {'class':'article-content'}).getText(\"\\n\")\n",
    "        self.clear_content = re.sub(r'http\\S+', '', self.raw_content)\n",
    "        \n",
    "        # Save it\n",
    "        data = {'number':self.number,\n",
    "                'author':self.author,\n",
    "                'title':self.title,\n",
    "                'recommand':self.recommand,\n",
    "                'clear_content':self.clear_content}\n",
    "        \n",
    "        try:\n",
    "            with open(save_path+self.number+'.json', 'w', encoding='utf8') as f:\n",
    "                json.dump(data, f, ensure_ascii=True, indent=4)\n",
    "            \n",
    "            print(f'Done {self.number} - {self.title}')\n",
    "        except:\n",
    "            self.error('Failed to save data. Try with administration.')"
   ]
  },
  {
   "cell_type": "code",
   "execution_count": null,
   "metadata": {},
   "outputs": [],
   "source": [
    "from random import random\n",
    "pages = 50\n",
    "\n",
    "for i in range(1, pages+1):\n",
    "    for page in get_articles(i, cookies):\n",
    "        article(page).get(cookies=cookies, save_path='data/', delay=random()*2)"
   ]
  }
 ],
 "metadata": {
  "kernelspec": {
   "display_name": "Python 3",
   "language": "python",
   "name": "python3"
  },
  "language_info": {
   "codemirror_mode": {
    "name": "ipython",
    "version": 3
   },
   "file_extension": ".py",
   "mimetype": "text/x-python",
   "name": "python",
   "nbconvert_exporter": "python",
   "pygments_lexer": "ipython3",
   "version": "3.10.9"
  }
 },
 "nbformat": 4,
 "nbformat_minor": 2
}
